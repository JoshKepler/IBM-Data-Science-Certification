{
 "cells": [
  {
   "cell_type": "markdown",
   "id": "bca3ab42",
   "metadata": {},
   "source": [
    "# Data Science Tools and Ecosystem"
   ]
  },
  {
   "cell_type": "markdown",
   "id": "60af7c4b",
   "metadata": {},
   "source": [
    "## Author\n",
    "Josh Kepler"
   ]
  },
  {
   "cell_type": "markdown",
   "id": "9f98a310",
   "metadata": {},
   "source": [
    "In this notebook, Data Science Tools and Ecosystem are summarized."
   ]
  },
  {
   "cell_type": "markdown",
   "id": "d09bb57d",
   "metadata": {},
   "source": [
    "**Objectives:**\n",
    "\n",
    "- Popular Languages\n",
    "- Popular Libararies\n",
    "- Data Science Tools\n",
    "- Simple Arithmetic Expressions"
   ]
  },
  {
   "cell_type": "markdown",
   "id": "719fd101",
   "metadata": {},
   "source": [
    "Some of the popular languages that Data Scientists use are:\n",
    "\n",
    "1) Python\n",
    "2) R\n",
    "3) SQL"
   ]
  },
  {
   "cell_type": "markdown",
   "id": "ba8244d0",
   "metadata": {},
   "source": [
    "Some of the commonly used libraries used by Data Scientists include:\n",
    "\n",
    "1) Pandas\n",
    "2) Seaborn\n",
    "3) Numpy"
   ]
  },
  {
   "cell_type": "markdown",
   "id": "70583f47",
   "metadata": {},
   "source": [
    "|Data Science Tools|\n",
    "|:---:|\n",
    "|Visual Studio|\n",
    "|PyCharm|\n",
    "|Eclipse|"
   ]
  },
  {
   "cell_type": "markdown",
   "id": "245cca9a",
   "metadata": {},
   "source": [
    "### Below are a few examples of evaluating arithmetic expressions in Python."
   ]
  },
  {
   "cell_type": "code",
   "execution_count": 2,
   "id": "26c43117",
   "metadata": {},
   "outputs": [
    {
     "data": {
      "text/plain": [
       "17"
      ]
     },
     "execution_count": 2,
     "metadata": {},
     "output_type": "execute_result"
    }
   ],
   "source": [
    "#This a simple arithmetic expression to mutiply then add integers.\n",
    "\n",
    "(3*4)+5"
   ]
  },
  {
   "cell_type": "code",
   "execution_count": 3,
   "id": "b545b49d",
   "metadata": {},
   "outputs": [
    {
     "data": {
      "text/plain": [
       "3.3333333333333335"
      ]
     },
     "execution_count": 3,
     "metadata": {},
     "output_type": "execute_result"
    }
   ],
   "source": [
    "#This will convert 200 minutes to hours by diving by 60.\n",
    "\n",
    "200/60"
   ]
  }
 ],
 "metadata": {
  "kernelspec": {
   "display_name": "Python 3 (ipykernel)",
   "language": "python",
   "name": "python3"
  },
  "language_info": {
   "codemirror_mode": {
    "name": "ipython",
    "version": 3
   },
   "file_extension": ".py",
   "mimetype": "text/x-python",
   "name": "python",
   "nbconvert_exporter": "python",
   "pygments_lexer": "ipython3",
   "version": "3.10.1"
  }
 },
 "nbformat": 4,
 "nbformat_minor": 5
}
